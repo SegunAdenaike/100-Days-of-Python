{
  "nbformat": 4,
  "nbformat_minor": 0,
  "metadata": {
    "colab": {
      "provenance": [],
      "authorship_tag": "ABX9TyOzgbyE86zha/RaAlXIA0zE",
      "include_colab_link": true
    },
    "kernelspec": {
      "name": "python3",
      "display_name": "Python 3"
    },
    "language_info": {
      "name": "python"
    }
  },
  "cells": [
    {
      "cell_type": "markdown",
      "metadata": {
        "id": "view-in-github",
        "colab_type": "text"
      },
      "source": [
        "<a href=\"https://colab.research.google.com/github/SegunAdenaike/100-Days-of-Python/blob/main/100_Days_of_Python.ipynb\" target=\"_parent\"><img src=\"https://colab.research.google.com/assets/colab-badge.svg\" alt=\"Open In Colab\"/></a>"
      ]
    },
    {
      "cell_type": "markdown",
      "source": [
        "###DAY 1"
      ],
      "metadata": {
        "id": "63QSNIusnZFP"
      }
    },
    {
      "cell_type": "code",
      "execution_count": null,
      "metadata": {
        "id": "vlkO5PFRpXQo"
      },
      "outputs": [],
      "source": [
        "print(\"Day 1 - Python Print Function\")\n",
        "print(\"The function is declared like this:\")\n",
        "print(\"print('what to print')\")"
      ]
    },
    {
      "cell_type": "code",
      "source": [
        "print(len(input(\"What is your name? \")))"
      ],
      "metadata": {
        "id": "pqv6KFZ4qXb0"
      },
      "execution_count": null,
      "outputs": []
    },
    {
      "cell_type": "code",
      "source": [
        "# 🚨 Don't change the code below 👇\n",
        "a = input(\"a: \")\n",
        "b = input(\"b: \")\n",
        "# 🚨 Don't change the code above 👆\n",
        "\n",
        "####################################\n",
        "#Write your code below this line 👇\n",
        "c = a\n",
        "d = b\n",
        "b = c\n",
        "a = d\n",
        "\n",
        "#Write your code above this line 👆\n",
        "####################################\n",
        "\n",
        "# 🚨 Don't change the code below 👇\n",
        "print(\"a: \" + a)\n",
        "print(\"b: \" + b)"
      ],
      "metadata": {
        "id": "ViCX7BaYqvsp"
      },
      "execution_count": null,
      "outputs": []
    },
    {
      "cell_type": "code",
      "source": [
        "#1. Create a greeting for your program.\n",
        "print(\"Welcome to the Band Name Generator\")\n",
        "#2. Ask the user for the city that they grew up in.\n",
        "city = input(\"What's the name of the city you grew up in?\\n\")\n",
        "#3. Ask the user for the name of a pet.\n",
        "pet = input(\"What's your pet's name?\\n\")\n",
        "#4. Combine the name of their city and pet and show them their band name.\n",
        "print(\"Your band name could be \" + city + \" \"+ pet)"
      ],
      "metadata": {
        "id": "cVw_xIwbrCcR"
      },
      "execution_count": null,
      "outputs": []
    },
    {
      "cell_type": "markdown",
      "source": [
        "###DAY 2"
      ],
      "metadata": {
        "id": "5AoK3uWmnrSc"
      }
    },
    {
      "cell_type": "markdown",
      "source": [
        "A program that sums the digits of a 2-digit number"
      ],
      "metadata": {
        "id": "Hnl3U1LF0u42"
      }
    },
    {
      "cell_type": "code",
      "source": [
        "# 🚨 Don't change the code below 👇\n",
        "two_digit_number = input(\"Type a two digit number: \")\n",
        "# 🚨 Don't change the code above 👆\n",
        "\n",
        "####################################\n",
        "#Write your code below this line 👇\n",
        "print(int(two_digit_number[0]) + int(two_digit_number[1]))"
      ],
      "metadata": {
        "id": "_TKSV5HxrYvS"
      },
      "execution_count": null,
      "outputs": []
    },
    {
      "cell_type": "markdown",
      "source": [
        "BMI Calculator"
      ],
      "metadata": {
        "id": "ppwl2J8L07g6"
      }
    },
    {
      "cell_type": "code",
      "source": [
        "# 🚨 Don't change the code below 👇\n",
        "height = input(\"enter your height in m: \")\n",
        "weight = input(\"enter your weight in kg: \")\n",
        "# 🚨 Don't change the code above 👆\n",
        "\n",
        "#Write your code below this line 👇\n",
        "height = float(height)\n",
        "weight = float(weight)\n",
        "\n",
        "bmi = int(weight / (height ** 2))\n",
        "\n",
        "print(bmi)"
      ],
      "metadata": {
        "id": "LqjuRMGf0eQ9"
      },
      "execution_count": null,
      "outputs": []
    },
    {
      "cell_type": "markdown",
      "source": [
        "This code calculates the number of days, weeks, and months you have left to live if you were to live up to 90 years"
      ],
      "metadata": {
        "id": "OvMstBQy9fuu"
      }
    },
    {
      "cell_type": "code",
      "source": [
        "# 🚨 Don't change the code below 👇\n",
        "age = input(\"What is your current age? \")\n",
        "# 🚨 Don't change the code above 👆\n",
        "\n",
        "#Write your code below this line 👇\n",
        "max_years = 90\n",
        "remaining_years = max_years - int(age)\n",
        "remaining_months = remaining_years * 12\n",
        "remaining_weeks = remaining_years * 52\n",
        "remaining_days = remaining_years * 365\n",
        "\n",
        "print(f\"You have {remaining_days} days, {remaining_weeks} weeks, and {remaining_months} months left.\")"
      ],
      "metadata": {
        "id": "fJT7LQIl0g5-"
      },
      "execution_count": null,
      "outputs": []
    },
    {
      "cell_type": "markdown",
      "source": [
        "Tip Calculator"
      ],
      "metadata": {
        "id": "xqfVrT4QEc6b"
      }
    },
    {
      "cell_type": "code",
      "source": [
        "print(\"Welcome to the tip calculator\")\n",
        "total_bill = float(input(\"What was the total bill? $\"))\n",
        "tip = int(input(\"What percentage tip would you like to give? 10, 12, or 15? \"))\n",
        "num = int(input(\"How many people to split the bill? \"))\n",
        "\n",
        "each_pay = (total_bill + (total_bill * tip / 100)) / num\n",
        "\n",
        "result = round(each_pay, 2)\n",
        "result = \"{:.2f}\".format(each_pay)\n",
        "\n",
        "print(f\"Each person should pay: ${result}\")"
      ],
      "metadata": {
        "id": "qdsQscHY9dCR"
      },
      "execution_count": null,
      "outputs": []
    },
    {
      "cell_type": "markdown",
      "source": [
        "###DAY 3"
      ],
      "metadata": {
        "id": "tFkUGkWt7nqS"
      }
    },
    {
      "cell_type": "markdown",
      "source": [
        "Odd or even?"
      ],
      "metadata": {
        "id": "rb3DsAtE_i8d"
      }
    },
    {
      "cell_type": "code",
      "source": [
        "# 🚨 Don't change the code below 👇\n",
        "number = int(input(\"Which number do you want to check? \"))\n",
        "# 🚨 Don't change the code above 👆\n",
        "\n",
        "#Write your code below this line 👇\n",
        "\n",
        "if number % 2 == 0:\n",
        "    print(\"This is an even number.\")\n",
        "else:\n",
        "    print(\"This is an odd number.\")"
      ],
      "metadata": {
        "id": "5HsjHDHfEUrH"
      },
      "execution_count": null,
      "outputs": []
    },
    {
      "cell_type": "markdown",
      "source": [
        "Rollercoaster Ticketing"
      ],
      "metadata": {
        "id": "KSHqE8HJ_5Bz"
      }
    },
    {
      "cell_type": "code",
      "source": [
        "print(\"Welcome to the rollercoaster!\")\n",
        "height = int(input(\"What is your height in cm? \"))\n",
        "\n",
        "if height >= 120:\n",
        "  print(\"You can ride the rollercoaster\")\n",
        "  age = int(input(\"What is your age? \"))\n",
        "  if age < 12:\n",
        "    print(\"Please pay $5.\")\n",
        "  elif age <= 18:\n",
        "    print(\"Please pay $7.\")\n",
        "  else:\n",
        "    print(\"Please pay $12.\")\n",
        "else:\n",
        "  print(\"Sorry, you have to grow taller before you can ride\")"
      ],
      "metadata": {
        "id": "foCFlLk5_bhD"
      },
      "execution_count": null,
      "outputs": []
    },
    {
      "cell_type": "markdown",
      "source": [
        "BMI Calculator 2.0"
      ],
      "metadata": {
        "id": "6-kPCpETDZ7P"
      }
    },
    {
      "cell_type": "code",
      "source": [
        "# 🚨 Don't change the code below 👇\n",
        "height = float(input(\"enter your height in m: \"))\n",
        "weight = float(input(\"enter your weight in kg: \"))\n",
        "# 🚨 Don't change the code above 👆\n",
        "\n",
        "#Write your code below this line 👇\n",
        "calc = weight / height ** 2\n",
        "bmi = round(calc)\n",
        "\n",
        "if bmi < 18.5:\n",
        "    print(f\"Your BMI is {bmi}, you are underweight.\")\n",
        "elif bmi < 25:\n",
        "    print(f\"Your BMI is {bmi}, you have a normal weight.\")\n",
        "elif bmi < 30:\n",
        "    print(f\"Your BMI is {bmi}, you are slightly overweight.\")\n",
        "elif bmi < 35:\n",
        "    print(f\"Your BMI is {bmi}, you are obese.\")\n",
        "else:\n",
        "    print(f\"Your BMI is {bmi}, you are clinically obese.\")"
      ],
      "metadata": {
        "id": "efvBDVg6_t7W"
      },
      "execution_count": null,
      "outputs": []
    },
    {
      "cell_type": "markdown",
      "source": [
        "Leap Year Calculator"
      ],
      "metadata": {
        "id": "t8PknyMWMHxk"
      }
    },
    {
      "cell_type": "code",
      "source": [
        "# 🚨 Don't change the code below 👇\n",
        "year = int(input(\"Which year do you want to check? \"))\n",
        "# 🚨 Don't change the code above 👆\n",
        "\n",
        "#Write your code below this line 👇\n",
        "if year % 4 == 0:\n",
        "    print(\"Leap year.\")\n",
        "elif year % 4 == 0 and year % 100 != 0:\n",
        "    print(\"Leap year.\")\n",
        "elif year % 4 == 0 and year % 100 != 0 and year % 400 == 0:\n",
        "    print(\"Leap year\")\n",
        "else:\n",
        "    print(\"Not leap year.\")"
      ],
      "metadata": {
        "id": "LAnvFGMbDVJO"
      },
      "execution_count": null,
      "outputs": []
    },
    {
      "cell_type": "markdown",
      "source": [
        "Automated pizza order fulfilment"
      ],
      "metadata": {
        "id": "EgvviqiivS3z"
      }
    },
    {
      "cell_type": "code",
      "source": [
        "# 🚨 Don't change the code below 👇\n",
        "print(\"Welcome to Python Pizza Deliveries!\")\n",
        "size = input(\"What size pizza do you want? S, M, or L \")\n",
        "add_pepperoni = input(\"Do you want pepperoni? Y or N \")\n",
        "extra_cheese = input(\"Do you want extra cheese? Y or N \")\n",
        "# 🚨 Don't change the code above 👆\n",
        "\n",
        "#Write your code below this line 👇\n",
        "small_pizza = 15\n",
        "medium_pizza = 20\n",
        "large_pizza = 25\n",
        "small_pepperoni = 2\n",
        "other_pepperoni = 3\n",
        "cheese = 1\n",
        "\n",
        "if size == \"S\":\n",
        "    if add_pepperoni == \"Y\":\n",
        "        bill = small_pizza + small_pepperoni\n",
        "        if extra_cheese == \"Y\":\n",
        "            bill = small_pizza + small_pepperoni + cheese\n",
        "            print(f\"Your final bill is: ${bill}.\")\n",
        "        else:\n",
        "            print(f\"Your final bill is: ${bill}.\")\n",
        "    else:\n",
        "        if extra_cheese == \"Y\":\n",
        "            bill = small_pizza + cheese\n",
        "            print(f\"Your final bill is: ${bill}.\")\n",
        "        else:\n",
        "            print(f\"Your final bill is: ${small_pizza}.\")\n",
        "elif size == \"M\":\n",
        "    if add_pepperoni == \"Y\":\n",
        "        bill = medium_pizza + other_pepperoni\n",
        "        if extra_cheese == \"Y\":\n",
        "            bill = medium_pizza + other_pepperoni + cheese\n",
        "            print(f\"Your final bill is: ${bill}.\")\n",
        "        else:\n",
        "            print(f\"Your final bill is: ${bill}.\")\n",
        "    else:\n",
        "        if extra_cheese == \"Y\":\n",
        "            bill = medium_pizza + cheese\n",
        "            print(f\"Your final bill is: ${bill}.\")\n",
        "        else:\n",
        "            print(f\"Your final bill is: ${medium_pizza}.\")\n",
        "elif size == \"L\":\n",
        "    if add_pepperoni == \"Y\":\n",
        "        bill = large_pizza + other_pepperoni\n",
        "        if extra_cheese == \"Y\":\n",
        "            bill = large_pizza + other_pepperoni + cheese\n",
        "            print(f\"Your final bill is: ${bill}.\")\n",
        "        else:\n",
        "            print(f\"Your final bill is: ${bill}.\")\n",
        "    else:\n",
        "        if extra_cheese == \"Y\":\n",
        "            bill = large_pizza + cheese\n",
        "            print(f\"Your final bill is: ${bill}.\")\n",
        "        else:\n",
        "            print(f\"Your final bill is: ${large_pizza}.\")\n"
      ],
      "metadata": {
        "id": "mmTLpvmELOVA"
      },
      "execution_count": null,
      "outputs": []
    },
    {
      "cell_type": "markdown",
      "source": [
        "Love calculator"
      ],
      "metadata": {
        "id": "oqIIIur66Tas"
      }
    },
    {
      "cell_type": "code",
      "source": [
        "# 🚨 Don't change the code below 👇\n",
        "print(\"Welcome to the Love Calculator!\")\n",
        "name1 = input(\"What is your name? \\n\")\n",
        "name2 = input(\"What is their name? \\n\")\n",
        "# 🚨 Don't change the code above 👆\n",
        "\n",
        "#Write your code below this line 👇\n",
        "\n",
        "lower_name1 = name1.lower()\n",
        "lower_name2 = name2.lower()\n",
        "\n",
        "check_name = lower_name1 + lower_name2\n",
        "\n",
        "count_true = check_name.count(\"t\") + check_name.count(\"r\") + check_name.count(\"u\") + check_name.count(\"e\")\n",
        "count_love = check_name.count(\"l\") + check_name.count(\"o\") + check_name.count(\"v\") + check_name.count(\"e\")\n",
        "\n",
        "truelove_score = str(count_true) + str(count_love)\n",
        "true_score = int(truelove_score)\n",
        "\n",
        "if true_score < 10 or true_score > 90:\n",
        "    print(f\"Your score is {true_score}, you go together like coke and mentos.\")\n",
        "elif true_score > 40 and true_score < 50:\n",
        "    print(f\"Your score is {true_score}, you are perfect together.\")\n",
        "else:\n",
        "    print(f\"Your score is {true_score}.\")"
      ],
      "metadata": {
        "id": "3c7K0MCD5vqN"
      },
      "execution_count": null,
      "outputs": []
    },
    {
      "cell_type": "markdown",
      "source": [
        "Treasure Island Game"
      ],
      "metadata": {
        "id": "JAUJKqWiCwMy"
      }
    },
    {
      "cell_type": "code",
      "source": [
        "print(\"Welcome to Treasure Island.\")\n",
        "print(\"Your mission is to find the treasure.\")\n",
        "\n",
        "decision_1 = input('''You are at a cross road, where do you want to go?\n",
        "                    Type \"Left\" or \"Right\"\\n''')\n",
        "if decision_1.lower() == \"left\":\n",
        "  decision_2 = input('''You are now at a lake.\n",
        "                      There is an island in the middle of the lake.\n",
        "                      Type \"wait\" to wait for a boat.\n",
        "                      Type \"swim\" to swim across\\n''')\n",
        "  if decision_2.lower() == \"wait\":\n",
        "    decision_3 = input('''You arrived at the island unharmed.\n",
        "                        There is a house with three doors.\n",
        "                        One red, one yellow, and one blue.\n",
        "                        Which colour do you choose?\\n''')\n",
        "    if decision_3.lower() == \"yellow\":\n",
        "      print(\"You Win!\")\n",
        "    elif decision_3.lower() == \"red\":\n",
        "      print(\"You got burnt by fire. Game Over!\")\n",
        "    else:\n",
        "      print(\"You got eaten by beasts. Game Over!\")\n",
        "  else:\n",
        "    print(\"You got eaten by crocodiles. Game Over!\")\n",
        "else:\n",
        "  print(\"You fell into a hole. Game Over!\")"
      ],
      "metadata": {
        "id": "HkfCa2gN5yCD"
      },
      "execution_count": null,
      "outputs": []
    },
    {
      "cell_type": "markdown",
      "source": [
        "###DAY 4"
      ],
      "metadata": {
        "id": "CYocfx6eexkC"
      }
    },
    {
      "cell_type": "markdown",
      "source": [
        "Virtual coin toss"
      ],
      "metadata": {
        "id": "IWRoZMZbe1Q4"
      }
    },
    {
      "cell_type": "code",
      "source": [
        "import random\n",
        "\n",
        "coin = random.randint(0, 1)\n",
        "\n",
        "if coin == 1:\n",
        "    print(\"Heads\")\n",
        "else:\n",
        "    print(\"Tails\")"
      ],
      "metadata": {
        "id": "3-2UnSDUCpRA"
      },
      "execution_count": null,
      "outputs": []
    },
    {
      "cell_type": "markdown",
      "source": [
        "Banker Roulette"
      ],
      "metadata": {
        "id": "9ZQR3qlplyWi"
      }
    },
    {
      "cell_type": "code",
      "source": [
        "# Import the random module here\n",
        "import random\n",
        "# Split string method\n",
        "names_string = input(\"Give me everybody's names, separated by a comma. \")\n",
        "names = names_string.split(\", \")\n",
        "# 🚨 Don't change the code above 👆\n",
        "\n",
        "#Write your code below this line 👇\n",
        "buyer = names[random.randint(0, (len(names) - 1))]\n",
        "print(f\"{buyer} is going to buy the meal today!\")"
      ],
      "metadata": {
        "id": "p_djF0qreuDB"
      },
      "execution_count": null,
      "outputs": []
    },
    {
      "cell_type": "markdown",
      "source": [
        "Rock, Paper, Scissors"
      ],
      "metadata": {
        "id": "JSU4UFPONxeC"
      }
    },
    {
      "cell_type": "code",
      "source": [
        "rock = '''\n",
        "    _______\n",
        "---'   ____)\n",
        "      (_____)\n",
        "      (_____)\n",
        "      (____)\n",
        "---.__(___)\n",
        "'''\n",
        "\n",
        "paper = '''\n",
        "    _______\n",
        "---'   ____)____\n",
        "          ______)\n",
        "          _______)\n",
        "         _______)\n",
        "---.__________)\n",
        "'''\n",
        "\n",
        "scissors = '''\n",
        "    _______\n",
        "---'   ____)____\n",
        "          ______)\n",
        "       __________)\n",
        "      (____)\n",
        "---.__(___)\n",
        "'''\n",
        "\n",
        "#Write your code below this line 👇\n",
        "import random\n",
        "\n",
        "comp_choice = random.randint(0, 2)\n",
        "your_choice = int(input(\"What do you choose? Type 0 for Rock, 1 for Paper or 2 for Scissors. \\n\"))\n",
        "\n",
        "graphics = [rock, paper, scissors]\n",
        "\n",
        "if your_choice in [0, 1, 2]:\n",
        "  print(graphics[your_choice])\n",
        "  print(f\"Computer chose: \\n{graphics[comp_choice]}\")\n",
        "  if your_choice == comp_choice:\n",
        "    print(\"Draw\")\n",
        "  elif your_choice == 0 and comp_choice == 1:\n",
        "    print(\"You lose!\")\n",
        "  elif your_choice == 0 and comp_choice == 2:\n",
        "    print(\"You win!\")\n",
        "  elif your_choice == 1 and comp_choice == 0:\n",
        "    print(\"You win!\")\n",
        "  elif your_choice == 1 and comp_choice == 2:\n",
        "    print(\"You lose!\")\n",
        "  elif your_choice == 2 and comp_choice == 0:\n",
        "    print(\"You lose!\")\n",
        "  elif your_choice == 2 and comp_choice == 1:\n",
        "    print(\"You win!\")\n",
        "else:\n",
        "  print(\"Invalid choice, you lose!\")"
      ],
      "metadata": {
        "id": "PwF9-B9Ol2Nh"
      },
      "execution_count": null,
      "outputs": []
    },
    {
      "cell_type": "markdown",
      "source": [
        "###DAY 5"
      ],
      "metadata": {
        "id": "Clik84IIPkNV"
      }
    },
    {
      "cell_type": "markdown",
      "source": [
        "Average Height Calculator"
      ],
      "metadata": {
        "id": "fkFXmjvTPnB7"
      }
    },
    {
      "cell_type": "code",
      "source": [
        "# 🚨 Don't change the code below 👇\n",
        "student_heights = input(\"Input a list of student heights \").split()\n",
        "for n in range(0, len(student_heights)):\n",
        "  student_heights[n] = int(student_heights[n])\n",
        "# 🚨 Don't change the code above 👆\n",
        "\n",
        "\n",
        "#Write your code below this row 👇\n",
        "\n",
        "sum_heights = 0\n",
        "num_heights = 0\n",
        "for height in student_heights:\n",
        "    sum_heights += height\n",
        "    num_heights += 1\n",
        "\n",
        "avg_height = round(sum_heights / num_heights)\n",
        "\n",
        "print(avg_height)"
      ],
      "metadata": {
        "id": "4wRiNK7HPYPT"
      },
      "execution_count": null,
      "outputs": []
    },
    {
      "cell_type": "markdown",
      "source": [
        "Max Score Calculator"
      ],
      "metadata": {
        "id": "ajyLIJD2ZBBT"
      }
    },
    {
      "cell_type": "code",
      "source": [
        "# 🚨 Don't change the code below 👇\n",
        "student_scores = input(\"Input a list of student scores \").split()\n",
        "for n in range(0, len(student_scores)):\n",
        "  student_scores[n] = int(student_scores[n])\n",
        "print(student_scores)\n",
        "# 🚨 Don't change the code above 👆\n",
        "\n",
        "#Write your code below this row 👇\n",
        "\n",
        "i = 0\n",
        "max_score = student_scores[0]\n",
        "\n",
        "for score in student_scores:\n",
        "    if student_scores[i] > max_score:\n",
        "        max_score = student_scores[i]\n",
        "    i += 1\n",
        "print(f\"The highest score in the class is: {max_score}\")"
      ],
      "metadata": {
        "id": "-MuzMWmkYu0D"
      },
      "execution_count": null,
      "outputs": []
    },
    {
      "cell_type": "markdown",
      "source": [
        "Sum even numbers between 1 and 100"
      ],
      "metadata": {
        "id": "KZl6qxiseFvf"
      }
    },
    {
      "cell_type": "code",
      "source": [
        "#Write your code below this row 👇\n",
        "\n",
        "total = 0\n",
        "\n",
        "for number in range(1, 101):\n",
        "    if number % 2 == 0:\n",
        "        total += number\n",
        "\n",
        "print(total)"
      ],
      "metadata": {
        "id": "G0meqcxGYxNA"
      },
      "execution_count": null,
      "outputs": []
    },
    {
      "cell_type": "markdown",
      "source": [
        "Password Generator"
      ],
      "metadata": {
        "id": "2js8CkrJ51SZ"
      }
    },
    {
      "cell_type": "code",
      "source": [
        "#Password Generator Project\n",
        "import random\n",
        "letters = ['a', 'b', 'c', 'd', 'e', 'f', 'g', 'h', 'i', 'j', 'k', 'l', 'm', 'n',\n",
        "           'o', 'p', 'q', 'r', 's', 't', 'u', 'v', 'w', 'x', 'y', 'z', 'A', 'B',\n",
        "           'C', 'D', 'E', 'F', 'G', 'H', 'I', 'J', 'K', 'L', 'M', 'N', 'O', 'P',\n",
        "           'Q', 'R', 'S', 'T', 'U', 'V', 'W', 'X', 'Y', 'Z']\n",
        "numbers = ['0', '1', '2', '3', '4', '5', '6', '7', '8', '9']\n",
        "symbols = ['!', '#', '$', '%', '&', '(', ')', '*', '+']\n",
        "\n",
        "print(\"Welcome to the PyPassword Generator!\")\n",
        "nr_letters= int(input(\"How many letters would you like in your password?\\n\"))\n",
        "nr_symbols = int(input(f\"How many symbols would you like?\\n\"))\n",
        "nr_numbers = int(input(f\"How many numbers would you like?\\n\"))\n",
        "\n",
        "#Eazy Level - Order not randomised:\n",
        "#e.g. 4 letter, 2 symbol, 2 number = JduE&!91\n",
        "password = []\n",
        "for char in range(1, nr_letters + 1):\n",
        "  char_password = random.choice(letters)\n",
        "  password.append(char_password)\n",
        "\n",
        "for num in range(1, nr_symbols + 1):\n",
        "  num_password = random.choice(numbers)\n",
        "  password.append(num_password)\n",
        "\n",
        "for sym in range(1, nr_numbers + 1):\n",
        "  sym_password = random.choice(symbols)\n",
        "  password.append(sym_password)\n",
        "#Hard Level - Order of characters randomised:\n",
        "#e.g. 4 letter, 2 symbol, 2 number = g^2jk8&P\n",
        "password = random.sample(password, len(password))\n",
        "display_password = \"\"\n",
        "for char in password:\n",
        "  display_password += char\n",
        "print(display_password)"
      ],
      "metadata": {
        "id": "qI1f_ZiweEgJ"
      },
      "execution_count": null,
      "outputs": []
    },
    {
      "cell_type": "markdown",
      "source": [
        "###DAY 7"
      ],
      "metadata": {
        "id": "jWFyyEZ94nTY"
      }
    },
    {
      "cell_type": "markdown",
      "source": [
        "Hangman game"
      ],
      "metadata": {
        "id": "UYu__tdw4r6K"
      }
    },
    {
      "cell_type": "code",
      "source": [
        "import random\n",
        "import hangman_art\n",
        "import hangman_words\n",
        "\n",
        "logo = hangman_art.logo\n",
        "stages = hangman_art.stages\n",
        "print(logo)\n",
        "\n",
        "word_list = hangman_words.word_list\n",
        "chosen_word = random.choice(word_list)\n",
        "word_length = len(chosen_word)\n",
        "\n",
        "end_of_game = False\n",
        "lives = 6\n",
        "\n",
        "display = []\n",
        "for _ in range(word_length):\n",
        "    display += \"_\"\n",
        "\n",
        "while not end_of_game:\n",
        "    guess = input(\"Guess a letter: \").lower()\n",
        "\n",
        "    if guess in display:\n",
        "        print(f\"You've already guessed {guess}, try another letter\")\n",
        "\n",
        "    for position in range(word_length):\n",
        "        letter = chosen_word[position]\n",
        "\n",
        "        if letter == guess:\n",
        "            display[position] = letter\n",
        "\n",
        "    if guess not in chosen_word:\n",
        "        print(f\"{guess} is not in the word, you lose a life\")\n",
        "        lives -= 1\n",
        "        if lives == 0:\n",
        "            end_of_game = True\n",
        "            print(\"You lose.\")\n",
        "\n",
        "    print(f\"{' '.join(display)}\")\n",
        "\n",
        "    if \"_\" not in display:\n",
        "        end_of_game = True\n",
        "        print(\"You win.\")\n",
        "\n",
        "    print(stages[lives])"
      ],
      "metadata": {
        "id": "N0i9TO-z4mdm"
      },
      "execution_count": null,
      "outputs": []
    },
    {
      "cell_type": "code",
      "source": [
        "list_num = []   #An empty list to store the numbers inputed by the user\n",
        "num = int(input(\"Enter a number: \"))\n",
        "\n",
        "#Repeatedly get number from user till they enter -1\n",
        "while num != -1:\n",
        "  list_num.append(num)\n",
        "  num = int(input(\"Enter a number: \"))\n",
        "\n",
        "#Calculate the sum of the numbers inputed by user\n",
        "total = 0\n",
        "for number in list_num:\n",
        "  total += number\n",
        "\n",
        "#Calculate the average\n",
        "calc_average = total / len(list_num)\n",
        "\n",
        "print(list_num)  #Print the numbers inputed by the user\n",
        "print(round(calc_average, 2))    #Print the average"
      ],
      "metadata": {
        "id": "U3CLncny4yRE"
      },
      "execution_count": null,
      "outputs": []
    },
    {
      "cell_type": "code",
      "source": [
        "num = int(input(\"Enter a number: \"))\n",
        "\n",
        "# prime numbers are greater than 1\n",
        "if num > 1:\n",
        "    # check for factors\n",
        "    for i in range(2, int(num/2)+1):\n",
        "        if (num % i) == 0:\n",
        "            print(num, \"is not a prime number\")\n",
        "            break\n",
        "    else:\n",
        "        print(num, \"is a prime number\")\n",
        "\n",
        "# if input number is less than or equal to 1, it is not prime\n",
        "else:\n",
        "    print(num, \"is not a prime number\")\n"
      ],
      "metadata": {
        "id": "WU_foIOU-N1e"
      },
      "execution_count": null,
      "outputs": []
    },
    {
      "cell_type": "markdown",
      "source": [
        "###DAY 8"
      ],
      "metadata": {
        "id": "AZso7Io3AJ5p"
      }
    },
    {
      "cell_type": "markdown",
      "source": [
        "Caesar cipher"
      ],
      "metadata": {
        "id": "YawX4euhAPwr"
      }
    },
    {
      "cell_type": "code",
      "source": [
        "alphabet = ['a', 'b', 'c', 'd', 'e', 'f', 'g', 'h', 'i', 'j', 'k', 'l', 'm',\n",
        "            'n', 'o', 'p', 'q', 'r', 's', 't', 'u', 'v', 'w', 'x', 'y', 'z']\n",
        "\n",
        "def caesar(text, shift, direction):\n",
        "    cipher_word = \"\"\n",
        "    shift = shift % 26\n",
        "    if direction == \"encode\":\n",
        "        for letter in text:\n",
        "          if letter in alphabet:\n",
        "            new_letter_index = alphabet.index(letter) + shift\n",
        "            if new_letter_index > 25:\n",
        "              new_letter_index = new_letter_index - 26\n",
        "            cipher_word += alphabet[new_letter_index]\n",
        "          else:\n",
        "            cipher_word += letter\n",
        "        print(f\"The encoded text is {cipher_word}\")\n",
        "\n",
        "    else:\n",
        "        for letter in text:\n",
        "          if letter in alphabet:\n",
        "            new_letter_index = alphabet.index(letter) - shift\n",
        "            cipher_word += alphabet[new_letter_index]\n",
        "          else:\n",
        "            cipher_word += letter\n",
        "        print(f\"The decoded text is {cipher_word}\")\n",
        "\n",
        "end_cipher = False\n",
        "while not end_cipher:\n",
        "    direction = input(\"Type 'encode' to encrypt, type 'decode' to decrypt:\\n\")\n",
        "    text = input(\"Type your message:\\n\").lower()\n",
        "    shift = int(input(\"Type the shift number:\\n\"))\n",
        "\n",
        "    caesar(text, shift, direction)\n",
        "\n",
        "    prompt = input(\"Type 'yes' to continue or 'no' to quit.\\n\").lower()\n",
        "    if prompt == \"no\":\n",
        "      end_cipher = True\n",
        "      print(\"Goodbye\")"
      ],
      "metadata": {
        "id": "pKCd186USGFM"
      },
      "execution_count": null,
      "outputs": []
    },
    {
      "cell_type": "markdown",
      "source": [
        "###DAY 9"
      ],
      "metadata": {
        "id": "4-tB976gsSXg"
      }
    },
    {
      "cell_type": "markdown",
      "source": [
        "Blind Auction"
      ],
      "metadata": {
        "id": "w6_SP_CytBc3"
      }
    },
    {
      "cell_type": "code",
      "source": [
        "from IPython.display import clear_output\n",
        "\n",
        "bid_value = {}\n",
        "def bid(name, bid_price):\n",
        "\n",
        "  bid_value[name] = bid_price\n",
        "\n",
        "end_bid = False\n",
        "while not end_bid:\n",
        "  name = input(\"What is your name?: \")\n",
        "  bid_price = int(input(\"What's your bid?: $\"))\n",
        "\n",
        "  bid(name, bid_price)\n",
        "\n",
        "  prompt = input(\"Are there any other bidders? Type 'yes' or 'no'.\\n\")\n",
        "  if prompt == \"no\":\n",
        "    end_bid = True\n",
        "\n",
        "  clear_output()\n",
        "\n",
        "bids = []\n",
        "bidder = []\n",
        "for key in bid_value:\n",
        "  bids.append(bid_value[key])\n",
        "  bidder.append(key)\n",
        "\n",
        "bid_winner = max(bids)\n",
        "winner_name = bidder[bids.index(max(bids))]\n",
        "\n",
        "print(f\"The winner is {winner_name} with a bid of ${bid_winner}.\")"
      ],
      "metadata": {
        "id": "-zF5DKpisUdY"
      },
      "execution_count": null,
      "outputs": []
    },
    {
      "cell_type": "markdown",
      "source": [
        "###DAY 10"
      ],
      "metadata": {
        "id": "DGM6ABxvtaXJ"
      }
    },
    {
      "cell_type": "markdown",
      "source": [
        "Recurring Calculator"
      ],
      "metadata": {
        "id": "boYKeqt4tgel"
      }
    },
    {
      "cell_type": "code",
      "source": [
        "def add(n1, n2):\n",
        "  return n1 + n2\n",
        "\n",
        "def multiply(n1, n2):\n",
        "  return n1 * n2\n",
        "\n",
        "def subtract(n1, n2):\n",
        "  return n1 - n2\n",
        "\n",
        "def divide(n1,n2):\n",
        "  return n1 / n2\n",
        "\n",
        "operations = {\"+\": add, \"-\": subtract, \"*\": multiply, \"/\": divide}\n",
        "\n",
        "def calculator():\n",
        "  num1 = float(input(\"What's the first number?: \"))\n",
        "\n",
        "  for operation in operations:\n",
        "    print (operation)\n",
        "  operation_symbol = input(\"Pick an operation from the line above: \")\n",
        "  num2 = float(input(\"What's the second number?: \"))\n",
        "\n",
        "  first_answer = operations[operation_symbol](num1, num2)\n",
        "\n",
        "  print(f\"{num1} {operation_symbol} {num2} = {first_answer}\")\n",
        "\n",
        "  end_calc = False\n",
        "  while not end_calc:\n",
        "    prompt = input(\"Type 'y' to continue calculating with the answer or 'n' to start a new calculation: \")\n",
        "    if prompt == \"y\":\n",
        "      operation_symbol = input(\"Pick another operation: \")\n",
        "      num3 = float(input(\"Input the next number: \"))\n",
        "\n",
        "      new_answer = operations[operation_symbol](first_answer, num3)\n",
        "      print(f\"{first_answer} {operation_symbol} {num3} = {new_answer}\")\n",
        "      first_answer = new_answer\n",
        "\n",
        "    else:\n",
        "      end_calc = True\n",
        "      calculator()\n",
        "\n",
        "calculator()"
      ],
      "metadata": {
        "id": "fDIIq9SttcRR"
      },
      "execution_count": null,
      "outputs": []
    },
    {
      "cell_type": "markdown",
      "source": [
        "###DAY 11"
      ],
      "metadata": {
        "id": "n5LTsKUAnG0s"
      }
    },
    {
      "cell_type": "markdown",
      "source": [
        "Blackjack - Capstone Project"
      ],
      "metadata": {
        "id": "KrJxPOpfnJ2F"
      }
    },
    {
      "cell_type": "code",
      "source": [
        "import random\n",
        "from IPython.display import clear_output\n",
        "\n",
        "def deal_card():\n",
        "  \"\"\"Returns a random card from the deck.\"\"\"\n",
        "  cards = [11, 2, 3, 4, 5, 6, 7, 8, 9, 10, 10, 10, 10]\n",
        "  card = random.choice(cards)\n",
        "  return card\n",
        "\n",
        "def calculate_score(cards):\n",
        "  \"\"\"Take a list of cards and return the score calculated from the cards\"\"\"\n",
        "\n",
        "  if sum(cards) == 21 and len(cards) == 2:\n",
        "    return 0\n",
        "\n",
        "  if 11 in cards and sum(cards) > 21:\n",
        "    cards.remove(11)\n",
        "    cards.append(1)\n",
        "  return sum(cards)\n",
        "\n",
        "def compare(user_score, computer_score):\n",
        "  if user_score > 21 and computer_score > 21:\n",
        "    return \"You went over. You lose\"\n",
        "\n",
        "\n",
        "  if user_score == computer_score:\n",
        "    return \"Draw\"\n",
        "  elif computer_score == 0:\n",
        "    return \"You Lose, opponent has Blackjack\"\n",
        "  elif user_score == 0:\n",
        "    return \"You Win with a Blackjack\"\n",
        "  elif user_score > 21:\n",
        "    return \"You went over. You lose\"\n",
        "  elif computer_score > 21:\n",
        "    return \"Opponent went over. You win\"\n",
        "  elif user_score > computer_score:\n",
        "    return \"You win\"\n",
        "  else:\n",
        "    return \"You lose\"\n",
        "\n",
        "def play_game():\n",
        "\n",
        "\n",
        "  user_cards = []\n",
        "  computer_cards = []\n",
        "  is_game_over = False\n",
        "\n",
        "  for _ in range(2):\n",
        "    user_cards.append(deal_card())\n",
        "    computer_cards.append(deal_card())\n",
        "\n",
        "\n",
        "  while not is_game_over:\n",
        "    user_score = calculate_score(user_cards)\n",
        "    computer_score = calculate_score(computer_cards)\n",
        "    print(f\"   Your cards: {user_cards}, current score: {user_score}\")\n",
        "    print(f\"   Computer's first card: {computer_cards[0]}\")\n",
        "\n",
        "    if user_score == 0 or computer_score == 0 or user_score > 21:\n",
        "      is_game_over = True\n",
        "    else:\n",
        "      user_should_deal = input(\"Type 'y' to get another card, type 'n' to pass: \")\n",
        "      if user_should_deal == \"y\":\n",
        "        user_cards.append(deal_card())\n",
        "      else:\n",
        "        is_game_over = True\n",
        "\n",
        "  while computer_score != 0 and computer_score < 17:\n",
        "    computer_cards.append(deal_card())\n",
        "    computer_score = calculate_score(computer_cards)\n",
        "\n",
        "  print(f\"   Your final hand: {user_cards}, final score: {user_score}\")\n",
        "  print(f\"   Computer's final hand: {computer_cards}, final score: {computer_score}\")\n",
        "  print(compare(user_score, computer_score))\n",
        "\n",
        "while input(\"Do you want to play a game of Blackjack? Type 'y' or 'n': \") == \"y\":\n",
        "  clear_output()\n",
        "  play_game()\n"
      ],
      "metadata": {
        "id": "v5PYlXfUtxqg",
        "colab": {
          "base_uri": "https://localhost:8080/"
        },
        "outputId": "ce1c8908-0aee-456d-9fc4-eaa5f262c783"
      },
      "execution_count": null,
      "outputs": [
        {
          "name": "stdout",
          "output_type": "stream",
          "text": [
            "   Your cards: [4, 7], current score: 11\n",
            "   Computer's first card: 7\n",
            "Type 'y' to get another card, type 'n' to pass: y\n",
            "   Your cards: [4, 7, 5], current score: 16\n",
            "   Computer's first card: 7\n",
            "Type 'y' to get another card, type 'n' to pass: y\n",
            "   Your cards: [4, 7, 5, 5], current score: 21\n",
            "   Computer's first card: 7\n",
            "Type 'y' to get another card, type 'n' to pass: n\n",
            "   Your final hand: [4, 7, 5, 5], final score: 21\n",
            "   Computer's final hand: [7, 6, 3, 1], final score: 17\n",
            "You win 😃\n",
            "Do you want to play a game of Blackjack? Type 'y' or 'n': n\n"
          ]
        }
      ]
    }
  ]
}